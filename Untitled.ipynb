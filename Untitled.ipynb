{
 "cells": [
  {
   "cell_type": "raw",
   "id": "5ca9e5df-4123-47cb-841d-b1fbe526f98d",
   "metadata": {},
   "source": [
    "Python for everybordy"
   ]
  },
  {
   "cell_type": "code",
   "execution_count": 2,
   "id": "ac61986d-abe3-4395-97e0-51b5b905963c",
   "metadata": {},
   "outputs": [
    {
     "name": "stdout",
     "output_type": "stream",
     "text": [
      "6\n"
     ]
    }
   ],
   "source": [
    "x = 6 \n",
    "print(x)"
   ]
  },
  {
   "cell_type": "code",
   "execution_count": 3,
   "id": "4b05d964-a129-4613-a7a4-dd8451162469",
   "metadata": {},
   "outputs": [
    {
     "name": "stdout",
     "output_type": "stream",
     "text": [
      "hello world\n"
     ]
    }
   ],
   "source": [
    "print('hello world')\n"
   ]
  },
  {
   "cell_type": "raw",
   "id": "e3624054-cf84-45e2-bd49-b3f1735e7612",
   "metadata": {},
   "source": [
    "Variales , expressions and statements"
   ]
  },
  {
   "cell_type": "code",
   "execution_count": 4,
   "id": "06acba72-fb9c-4cfa-bc2b-6ce93024f8ad",
   "metadata": {},
   "outputs": [
    {
     "data": {
      "text/plain": [
       "str"
      ]
     },
     "execution_count": 4,
     "metadata": {},
     "output_type": "execute_result"
    }
   ],
   "source": [
    "type(\"hello world\")"
   ]
  },
  {
   "cell_type": "code",
   "execution_count": 5,
   "id": "480a9f73-17dc-4085-a32f-0d08bb8a6b81",
   "metadata": {},
   "outputs": [
    {
     "data": {
      "text/plain": [
       "int"
      ]
     },
     "execution_count": 5,
     "metadata": {},
     "output_type": "execute_result"
    }
   ],
   "source": [
    "type(17)"
   ]
  },
  {
   "cell_type": "code",
   "execution_count": 6,
   "id": "d901fb87-800c-4d92-9672-9bfc1825f05f",
   "metadata": {},
   "outputs": [
    {
     "data": {
      "text/plain": [
       "float"
      ]
     },
     "execution_count": 6,
     "metadata": {},
     "output_type": "execute_result"
    }
   ],
   "source": [
    "type(3.2)"
   ]
  },
  {
   "cell_type": "code",
   "execution_count": 7,
   "id": "4e7cf3b1-46d4-4c01-a667-96ba107e5414",
   "metadata": {},
   "outputs": [
    {
     "data": {
      "text/plain": [
       "str"
      ]
     },
     "execution_count": 7,
     "metadata": {},
     "output_type": "execute_result"
    }
   ],
   "source": [
    "type('17')"
   ]
  },
  {
   "cell_type": "code",
   "execution_count": 8,
   "id": "1fb0c270-3243-45ef-9700-1f1729c1e692",
   "metadata": {},
   "outputs": [
    {
     "data": {
      "text/plain": [
       "str"
      ]
     },
     "execution_count": 8,
     "metadata": {},
     "output_type": "execute_result"
    }
   ],
   "source": [
    "type(\"3.2\")"
   ]
  },
  {
   "cell_type": "code",
   "execution_count": 9,
   "id": "7fd8b4f7-616c-45ff-9843-23a2a536fd5a",
   "metadata": {},
   "outputs": [
    {
     "name": "stdout",
     "output_type": "stream",
     "text": [
      "1 0 0\n"
     ]
    }
   ],
   "source": [
    "print(1,00,000)"
   ]
  },
  {
   "cell_type": "raw",
   "id": "bfbbe7e1-9030-47a2-8aba-da7c45e85195",
   "metadata": {},
   "source": [
    "Variables"
   ]
  },
  {
   "cell_type": "code",
   "execution_count": 15,
   "id": "4439472e-70bc-4d28-9879-14690e42abe3",
   "metadata": {},
   "outputs": [
    {
     "name": "stdout",
     "output_type": "stream",
     "text": [
      "17\n",
      "3.141592653589793\n"
     ]
    }
   ],
   "source": [
    "message = 'And now for something completely different'\n",
    "n = 17\n",
    "pi = 3.1415926535897931\n",
    "print(n)\n",
    "print(pi)"
   ]
  },
  {
   "cell_type": "code",
   "execution_count": 16,
   "id": "f5853768-a5a0-4afa-aec9-404bd3e31bd5",
   "metadata": {},
   "outputs": [
    {
     "data": {
      "text/plain": [
       "str"
      ]
     },
     "execution_count": 16,
     "metadata": {},
     "output_type": "execute_result"
    }
   ],
   "source": [
    "type(message)"
   ]
  },
  {
   "cell_type": "code",
   "execution_count": 17,
   "id": "cdcab350-5b6e-4574-a062-ec641747e368",
   "metadata": {},
   "outputs": [
    {
     "data": {
      "text/plain": [
       "int"
      ]
     },
     "execution_count": 17,
     "metadata": {},
     "output_type": "execute_result"
    }
   ],
   "source": [
    "type(n)"
   ]
  },
  {
   "cell_type": "code",
   "execution_count": 18,
   "id": "838781ce-bffa-43bb-8856-a32ab9b7ca43",
   "metadata": {},
   "outputs": [
    {
     "data": {
      "text/plain": [
       "float"
      ]
     },
     "execution_count": 18,
     "metadata": {},
     "output_type": "execute_result"
    }
   ],
   "source": [
    "type(pi)"
   ]
  },
  {
   "cell_type": "raw",
   "id": "d2e6aef9-82b3-403b-998f-f1ba82a2ff03",
   "metadata": {},
   "source": [
    "Statement"
   ]
  },
  {
   "cell_type": "code",
   "execution_count": 19,
   "id": "906e6c43-7606-464b-b322-07661db9367f",
   "metadata": {},
   "outputs": [
    {
     "name": "stdout",
     "output_type": "stream",
     "text": [
      "1\n",
      "2\n"
     ]
    }
   ],
   "source": [
    "print(1)\n",
    "x=2\n",
    "print(x)"
   ]
  },
  {
   "cell_type": "raw",
   "id": "e5588968-74fa-4d82-b765-fae63b996524",
   "metadata": {},
   "source": [
    "Operators and Operands"
   ]
  },
  {
   "cell_type": "code",
   "execution_count": 21,
   "id": "6850d46c-c107-49a2-aecd-b66f7c419fe2",
   "metadata": {},
   "outputs": [
    {
     "data": {
      "text/plain": [
       "0"
      ]
     },
     "execution_count": 21,
     "metadata": {},
     "output_type": "execute_result"
    }
   ],
   "source": [
    "m=59\n",
    "m/60\n",
    "m//60"
   ]
  },
  {
   "cell_type": "raw",
   "id": "2a8b7b07-e911-4024-9e3a-e0b451178a3e",
   "metadata": {},
   "source": [
    "Expressions"
   ]
  },
  {
   "cell_type": "raw",
   "id": "aef63e12-01eb-4049-9353-9d531d21e0d7",
   "metadata": {},
   "source": [
    "order of Operations"
   ]
  },
  {
   "cell_type": "raw",
   "id": "ebccb2d4-f596-49da-8a88-ddd184f73a12",
   "metadata": {},
   "source": [
    "PEMDAS = Parentheses,Exponentiation,M ultiplication and Division, addition and substraction"
   ]
  },
  {
   "cell_type": "code",
   "execution_count": 24,
   "id": "b95c0904-1939-47b8-9570-b4ff724e79da",
   "metadata": {},
   "outputs": [
    {
     "name": "stdin",
     "output_type": "stream",
     "text": [
      "What...is the airspeed velocity of an unladen swallow?\n",
      " o]\\\n"
     ]
    },
    {
     "ename": "ValueError",
     "evalue": "invalid literal for int() with base 10: 'o]\\\\'",
     "output_type": "error",
     "traceback": [
      "\u001b[31m---------------------------------------------------------------------------\u001b[39m",
      "\u001b[31mValueError\u001b[39m                                Traceback (most recent call last)",
      "\u001b[36mCell\u001b[39m\u001b[36m \u001b[39m\u001b[32mIn[24]\u001b[39m\u001b[32m, line 3\u001b[39m\n\u001b[32m      1\u001b[39m prompt = \u001b[33m'\u001b[39m\u001b[33mWhat...is the airspeed velocity of an unladen swallow?\u001b[39m\u001b[38;5;130;01m\\n\u001b[39;00m\u001b[33m'\u001b[39m\n\u001b[32m      2\u001b[39m speed = \u001b[38;5;28minput\u001b[39m(prompt)\n\u001b[32m----> \u001b[39m\u001b[32m3\u001b[39m \u001b[38;5;28;43mint\u001b[39;49m\u001b[43m(\u001b[49m\u001b[43mspeed\u001b[49m\u001b[43m)\u001b[49m\n\u001b[32m      4\u001b[39m \u001b[38;5;28mint\u001b[39m(speed) + \u001b[32m5\u001b[39m\n",
      "\u001b[31mValueError\u001b[39m: invalid literal for int() with base 10: 'o]\\\\'"
     ]
    }
   ],
   "source": [
    "prompt = 'What...is the airspeed velocity of an unladen swallow?\\n'\n",
    "speed = input(prompt)\n",
    "int(speed)\n",
    "int(speed) + 5"
   ]
  },
  {
   "cell_type": "raw",
   "id": "f71ff41f-b968-431b-8b83-e0a9a06ef4e5",
   "metadata": {},
   "source": [
    "Comments"
   ]
  },
  {
   "cell_type": "code",
   "execution_count": 31,
   "id": "683ebfae-227e-47a8-87a1-18ae3822eaf8",
   "metadata": {},
   "outputs": [
    {
     "ename": "ValueError",
     "evalue": "invalid literal for int() with base 10: 'jtyj'",
     "output_type": "error",
     "traceback": [
      "\u001b[31m---------------------------------------------------------------------------\u001b[39m",
      "\u001b[31mValueError\u001b[39m                                Traceback (most recent call last)",
      "\u001b[36mCell\u001b[39m\u001b[36m \u001b[39m\u001b[32mIn[31]\u001b[39m\u001b[32m, line 2\u001b[39m\n\u001b[32m      1\u001b[39m \u001b[38;5;66;03m#we can use hastag for writing comments\u001b[39;00m\n\u001b[32m----> \u001b[39m\u001b[32m2\u001b[39m m=\u001b[38;5;28minput\u001b[39m(\u001b[38;5;28;43mint\u001b[39;49m\u001b[43m(\u001b[49m\u001b[33;43m'\u001b[39;49m\u001b[33;43mjtyj\u001b[39;49m\u001b[33;43m'\u001b[39;49m\u001b[43m)\u001b[49m)\n\u001b[32m      3\u001b[39m p=(m/\u001b[32m60\u001b[39m)\n\u001b[32m      4\u001b[39m \u001b[38;5;28mprint\u001b[39m(p)\n",
      "\u001b[31mValueError\u001b[39m: invalid literal for int() with base 10: 'jtyj'"
     ]
    }
   ],
   "source": [
    "#we can use hastag for writing comments\n",
    "m=input(int('jtyj'))\n",
    "p=(m/60)\n",
    "print(p)"
   ]
  },
  {
   "cell_type": "code",
   "execution_count": 32,
   "id": "52777a80-fc08-46b0-a62f-c7cdbe1a118a",
   "metadata": {},
   "outputs": [
    {
     "name": "stdout",
     "output_type": "stream",
     "text": [
      "437.5\n"
     ]
    }
   ],
   "source": [
    "a=35.0\n",
    "b=12.50\n",
    "c= a * b\n",
    "print(c)"
   ]
  },
  {
   "cell_type": "code",
   "execution_count": 34,
   "id": "7e0fc48a-ae16-41f0-9a05-6585f7f5075b",
   "metadata": {},
   "outputs": [
    {
     "ename": "NameError",
     "evalue": "name 'words' is not defined",
     "output_type": "error",
     "traceback": [
      "\u001b[31m---------------------------------------------------------------------------\u001b[39m",
      "\u001b[31mNameError\u001b[39m                                 Traceback (most recent call last)",
      "\u001b[36mCell\u001b[39m\u001b[36m \u001b[39m\u001b[32mIn[34]\u001b[39m\u001b[32m, line 1\u001b[39m\n\u001b[32m----> \u001b[39m\u001b[32m1\u001b[39m \u001b[38;5;28;01mfor\u001b[39;00m word \u001b[38;5;129;01min\u001b[39;00m \u001b[43mwords\u001b[49m :\n\u001b[32m      2\u001b[39m     \u001b[38;5;28mprint\u001b[39m(word)\n",
      "\u001b[31mNameError\u001b[39m: name 'words' is not defined"
     ]
    }
   ],
   "source": [
    "for word in words :\n",
    "    print(word)"
   ]
  },
  {
   "cell_type": "code",
   "execution_count": 37,
   "id": "ea3e86d1-b0da-45f2-93bf-efe78797ba54",
   "metadata": {},
   "outputs": [
    {
     "name": "stdin",
     "output_type": "stream",
     "text": [
      "Enter your name:  Chuck\n"
     ]
    },
    {
     "name": "stdout",
     "output_type": "stream",
     "text": [
      "Hello Chuck\n"
     ]
    }
   ],
   "source": [
    "a = input('Enter your name: ')\n",
    "print ( 'Hello ' + a)"
   ]
  },
  {
   "cell_type": "code",
   "execution_count": 48,
   "id": "bc485f0b-198f-4861-8257-0c0b638e805d",
   "metadata": {},
   "outputs": [
    {
     "name": "stdin",
     "output_type": "stream",
     "text": [
      "Enter Hours:  35\n",
      "Enter Rate:  2.75\n"
     ]
    },
    {
     "name": "stdout",
     "output_type": "stream",
     "text": [
      "Pay: 96.25\n"
     ]
    }
   ],
   "source": [
    "a = input('Enter Hours: ')\n",
    "b = input ('Enter Rate: ')\n",
    "c = int(a) * float(b)\n",
    "print(\"Pay:\", c)\n"
   ]
  },
  {
   "cell_type": "code",
   "execution_count": 51,
   "id": "13fa04a0-a6ef-4ef7-b774-ab8b3d34c9b5",
   "metadata": {},
   "outputs": [
    {
     "name": "stdin",
     "output_type": "stream",
     "text": [
      "Enter Hours:  35\n",
      "Enter Rate:  2.75\n"
     ]
    },
    {
     "name": "stdout",
     "output_type": "stream",
     "text": [
      "Pay: 96.25\n"
     ]
    }
   ],
   "source": [
    "a = input('Enter Hours: ')\n",
    "b = input ('Enter Rate: ')\n",
    "c = int(a) * float(b)\n",
    "print(\"Pay: \" +str(c))"
   ]
  },
  {
   "cell_type": "code",
   "execution_count": 52,
   "id": "f2676a13-0eef-426c-abcb-0a56e80dd6e6",
   "metadata": {},
   "outputs": [
    {
     "data": {
      "text/plain": [
       "'35'"
      ]
     },
     "execution_count": 52,
     "metadata": {},
     "output_type": "execute_result"
    }
   ],
   "source": [
    "a = input(float(('TEMPERATURE in celsius: '))\n",
    "b = \n",
    "c = "
   ]
  },
  {
   "cell_type": "code",
   "execution_count": null,
   "id": "3cdd739a-acf3-4319-8f59-8a70893048dc",
   "metadata": {},
   "outputs": [],
   "source": []
  }
 ],
 "metadata": {
  "kernelspec": {
   "display_name": "Python 3 (ipykernel)",
   "language": "python",
   "name": "python3"
  },
  "language_info": {
   "codemirror_mode": {
    "name": "ipython",
    "version": 3
   },
   "file_extension": ".py",
   "mimetype": "text/x-python",
   "name": "python",
   "nbconvert_exporter": "python",
   "pygments_lexer": "ipython3",
   "version": "3.12.3"
  }
 },
 "nbformat": 4,
 "nbformat_minor": 5
}
