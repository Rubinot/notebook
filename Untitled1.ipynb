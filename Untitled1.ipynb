{
 "cells": [
  {
   "cell_type": "code",
   "execution_count": 3,
   "id": "ddfa75fb-4673-4561-a32b-d42a38114e3f",
   "metadata": {},
   "outputs": [
    {
     "name": "stdout",
     "output_type": "stream",
     "text": [
      "Q1) Do you like Dawn or Dusk? \n",
      "1) Dawn  2) Dusk\n"
     ]
    },
    {
     "name": "stdin",
     "output_type": "stream",
     "text": [
      " 2\n"
     ]
    },
    {
     "name": "stdout",
     "output_type": "stream",
     "text": [
      "Q2) When I’m dead, I want people to remember me as:\n",
      " 1) The Good\n",
      " 2) The Great\n",
      " 3) The Wise\n",
      " 4) The Bold\n"
     ]
    },
    {
     "name": "stdin",
     "output_type": "stream",
     "text": [
      " 3\n"
     ]
    },
    {
     "name": "stdout",
     "output_type": "stream",
     "text": [
      "Q3) Which kind of instrument most pleases your ear?\n",
      " 1) The violin\n",
      "2) The trumpet\n",
      "3) The piano\n",
      "4) The drum\n"
     ]
    },
    {
     "name": "stdin",
     "output_type": "stream",
     "text": [
      " 1\n"
     ]
    },
    {
     "name": "stdout",
     "output_type": "stream",
     "text": [
      "Your Scores:\n",
      "Gryffindor: 0\n",
      "Hufflepuff: 1\n",
      "Slytherin: 5\n",
      "Ravenclaw: 2\n"
     ]
    }
   ],
   "source": [
    "# Write code below 💖\n",
    "G = 0\n",
    "R = 0\n",
    "H = 0\n",
    "S = 0\n",
    "print(\"Q1) Do you like Dawn or Dusk? \")\n",
    "print(\"1) Dawn  2) Dusk\")\n",
    "a = int(input())\n",
    "if a == 1:\n",
    "  G = G + 1\n",
    "  R = R + 1\n",
    "elif a == 2:\n",
    "  H = H + 1\n",
    "  S = S + 1\n",
    "else:\n",
    "  print(\"Wrong Input!\")\n",
    "print(\"Q2) When I’m dead, I want people to remember me as:\")\n",
    "print(\" 1) The Good\")\n",
    "print(\" 2) The Great\")\n",
    "print(\" 3) The Wise\")\n",
    "print(\" 4) The Bold\")\n",
    "b = int(input())\n",
    "if b == 1:\n",
    "  H = H + 2\n",
    "elif b == 2:\n",
    "  S = S + 2\n",
    "elif b == 3:\n",
    "  R = R = 2\n",
    "elif b == 4:\n",
    "  G = G + 2\n",
    "else:\n",
    "  print(\"Wrong Input!\")\n",
    "print(\"Q3) Which kind of instrument most pleases your ear?\")\n",
    "print(\" 1) The violin\")\n",
    "print(\"2) The trumpet\")\n",
    "print(\"3) The piano\")\n",
    "print(\"4) The drum\")\n",
    "c = int(input())\n",
    "if c == 1:\n",
    "  S = S + 4\n",
    "elif c == 2:\n",
    "  H = H + 4\n",
    "elif c == 3:\n",
    "  R = R + 4\n",
    "elif c == 4:\n",
    "  G = G + 4\n",
    "else:\n",
    "  print('wrong input' )\n",
    "print(\"Your Scores:\")    \n",
    "print(\"Gryffindor: \" + str(G))\n",
    "print(\"Hufflepuff: \"+ str(H))\n",
    "print(\"Slytherin: \" + str(S))\n",
    "print(\"Ravenclaw: \" + str(R))"
   ]
  },
  {
   "cell_type": "code",
   "execution_count": 4,
   "id": "786a1f37-de9d-494e-9c36-f4d672221c28",
   "metadata": {},
   "outputs": [
    {
     "name": "stdout",
     "output_type": "stream",
     "text": [
      "Q1) Do you like Dawn or Dusk? \n",
      "1) Dawn  2) Dusk\n"
     ]
    },
    {
     "name": "stdin",
     "output_type": "stream",
     "text": [
      " 2\n"
     ]
    },
    {
     "name": "stdout",
     "output_type": "stream",
     "text": [
      "Q2) When I’m dead, I want people to remember me as:\n",
      " 1) The Good\n",
      " 2) The Great\n",
      " 3) The Wise\n",
      " 4) The Bold\n"
     ]
    },
    {
     "name": "stdin",
     "output_type": "stream",
     "text": [
      " 3\n"
     ]
    },
    {
     "name": "stdout",
     "output_type": "stream",
     "text": [
      "Q3) Which kind of instrument most pleases your ear?\n",
      " 1) The violin\n",
      "2) The trumpet\n",
      "3) The piano\n",
      "4) The drum\n"
     ]
    },
    {
     "name": "stdin",
     "output_type": "stream",
     "text": [
      " 1\n"
     ]
    },
    {
     "name": "stdout",
     "output_type": "stream",
     "text": [
      "Your Scores:\n",
      "Gryffindor: 0\n",
      "Hufflepuff: 1\n",
      "Slytherin: 5\n",
      "Ravenclaw: 2\n"
     ]
    }
   ],
   "source": [
    "# Write code below 💖\n",
    "G = 0\n",
    "R = 0\n",
    "H = 0\n",
    "S = 0\n",
    "print(\"Q1) Do you like Dawn or Dusk? \")\n",
    "print(\"1) Dawn  2) Dusk\")\n",
    "a = int(input())\n",
    "if a == 1:\n",
    "  G = G + 1\n",
    "  R = R + 1\n",
    "elif a == 2:\n",
    "  H = H + 1\n",
    "  S = S + 1\n",
    "else:\n",
    "  print(\"Wrong Input!\")\n",
    "print(\"Q2) When I’m dead, I want people to remember me as:\")\n",
    "print(\" 1) The Good\")\n",
    "print(\" 2) The Great\")\n",
    "print(\" 3) The Wise\")\n",
    "print(\" 4) The Bold\")\n",
    "b = int(input())\n",
    "if b == 1:\n",
    "  H = H + 2\n",
    "elif b == 2:\n",
    "  S = S + 2\n",
    "elif b == 3:\n",
    "  R = R + 2\n",
    "elif b == 4:\n",
    "  G = G + 2\n",
    "else:\n",
    "  print(\"Wrong Input!\")\n",
    "print(\"Q3) Which kind of instrument most pleases your ear?\")\n",
    "print(\" 1) The violin\")\n",
    "print(\"2) The trumpet\")\n",
    "print(\"3) The piano\")\n",
    "print(\"4) The drum\")\n",
    "c = int(input())\n",
    "if c == 1:\n",
    "  S = S + 4\n",
    "elif c == 2:\n",
    "  H = H + 4\n",
    "elif c == 3:\n",
    "  R = R + 4\n",
    "elif c == 4:\n",
    "  G = G + 4\n",
    "else:\n",
    "  print('wrong input' )\n",
    "print(\"Your Scores:\")    \n",
    "print(\"Gryffindor: \" + str(G))\n",
    "print(\"Hufflepuff: \"+ str(H))\n",
    "print(\"Slytherin: \" + str(S))\n",
    "print(\"Ravenclaw: \" + str(R))"
   ]
  },
  {
   "cell_type": "code",
   "execution_count": null,
   "id": "6cf614f9-f01c-478c-b826-398855be76b2",
   "metadata": {},
   "outputs": [],
   "source": []
  }
 ],
 "metadata": {
  "kernelspec": {
   "display_name": "Python 3 (ipykernel)",
   "language": "python",
   "name": "python3"
  },
  "language_info": {
   "codemirror_mode": {
    "name": "ipython",
    "version": 3
   },
   "file_extension": ".py",
   "mimetype": "text/x-python",
   "name": "python",
   "nbconvert_exporter": "python",
   "pygments_lexer": "ipython3",
   "version": "3.12.3"
  }
 },
 "nbformat": 4,
 "nbformat_minor": 5
}
