{
 "cells": [
  {
   "cell_type": "raw",
   "id": "6df7dea1-15ae-4ee0-87af-4f6c3d445276",
   "metadata": {},
   "source": [
    "Chapter 4: Functions\n",
    "Math functions"
   ]
  },
  {
   "cell_type": "code",
   "execution_count": 4,
   "id": "748a1dfd-9ccd-4f9b-b196-a2fecf6651b9",
   "metadata": {},
   "outputs": [
    {
     "name": "stdin",
     "output_type": "stream",
     "text": [
      "Enter the signal power:  26.3\n",
      "Enter the noise power:  33.4\n"
     ]
    },
    {
     "name": "stdout",
     "output_type": "stream",
     "text": [
      "Decimal:-1.0379071832180657\n"
     ]
    }
   ],
   "source": [
    "import math\n",
    "s = float(input(\"Enter the signal power: \"))\n",
    "n = float(input(\"Enter the noise power: \"))\n",
    "r = s / n\n",
    "d = 10 * math.log10(r)\n",
    "print (\"Decimal:\" + str(d))"
   ]
  },
  {
   "cell_type": "code",
   "execution_count": 8,
   "id": "d454c4b0-36aa-4171-b755-a1c60f1e6fa7",
   "metadata": {},
   "outputs": [
    {
     "name": "stdout",
     "output_type": "stream",
     "text": [
      "0.8414709848078965\n"
     ]
    }
   ],
   "source": [
    "r = 1\n",
    "h = math.sin(r)\n",
    "print(h)"
   ]
  },
  {
   "cell_type": "code",
   "execution_count": 9,
   "id": "698fa34b-31de-4465-a085-143811aa1412",
   "metadata": {},
   "outputs": [
    {
     "data": {
      "text/plain": [
       "0.7071067811865475"
      ]
     },
     "execution_count": 9,
     "metadata": {},
     "output_type": "execute_result"
    }
   ],
   "source": [
    "d = 45 #degrees\n",
    "r = d / 360.0 * 2 *math.pi #radian\n",
    "math.sin(r)"
   ]
  },
  {
   "cell_type": "code",
   "execution_count": 10,
   "id": "f0d582cb-c437-46cc-85b3-8be28be49be4",
   "metadata": {},
   "outputs": [
    {
     "data": {
      "text/plain": [
       "1.4142135623730951"
      ]
     },
     "execution_count": 10,
     "metadata": {},
     "output_type": "execute_result"
    }
   ],
   "source": [
    "math.sqrt(2)"
   ]
  },
  {
   "cell_type": "code",
   "execution_count": 11,
   "id": "24753334-4fd3-430c-a77b-65e6a3110e7d",
   "metadata": {},
   "outputs": [
    {
     "data": {
      "text/plain": [
       "0.7071067811865476"
      ]
     },
     "execution_count": 11,
     "metadata": {},
     "output_type": "execute_result"
    }
   ],
   "source": [
    "math.sqrt(2)/2.0"
   ]
  },
  {
   "cell_type": "raw",
   "id": "380370ea-a2a2-47c5-8951-ad92a14b80ea",
   "metadata": {},
   "source": [
    "4.5 Random numbers"
   ]
  },
  {
   "cell_type": "code",
   "execution_count": 12,
   "id": "2276cac2-5b6c-44ff-86aa-fcf35c6e7970",
   "metadata": {},
   "outputs": [],
   "source": [
    "import random"
   ]
  },
  {
   "cell_type": "code",
   "execution_count": 14,
   "id": "b9090690-00d9-4ea1-8d51-232c1788e7da",
   "metadata": {},
   "outputs": [
    {
     "name": "stdout",
     "output_type": "stream",
     "text": [
      "0.07256266795068922\n",
      "0.3685417388532074\n",
      "0.9424996801370215\n",
      "0.18868986626095063\n",
      "0.8354541987376171\n",
      "0.8230232911245224\n",
      "0.3900120876696894\n",
      "0.6208289778416628\n",
      "0.5392935892929774\n",
      "0.7060916971197413\n"
     ]
    }
   ],
   "source": [
    "for i in range(10):\n",
    "    x = random.random()\n",
    "    print(x)\n"
   ]
  },
  {
   "cell_type": "raw",
   "id": "ca1fb3f5-8032-4366-9877-75c373375daf",
   "metadata": {},
   "source": [
    "Exercise 1: Run the program on your system and see what numbers you get. Run\n",
    "the program more than once and see what numbers you get.\n",
    "The random function is only one of many functions that handle random numbers.\n",
    "The function randint takes the parameters low and high, and returns an integer\n",
    "between low and high (including both).\n",
    "\n",
    ">>> random.randint(5, 10)\n",
    "5\n",
    ">>> random.randint(5, 10)\n",
    "9\n",
    "To choose an element from a sequence at random, you can use choice:\n",
    ">>> t = [1, 2, 3]\n",
    ">>> random.choice(t)\n",
    "2\n",
    ">>> random.choice(t)\n",
    "3"
   ]
  },
  {
   "cell_type": "code",
   "execution_count": 16,
   "id": "fe578e4d-d785-4f5e-a8ab-be476568a418",
   "metadata": {},
   "outputs": [
    {
     "data": {
      "text/plain": [
       "10"
      ]
     },
     "execution_count": 16,
     "metadata": {},
     "output_type": "execute_result"
    }
   ],
   "source": [
    "random.randint(5, 10)"
   ]
  },
  {
   "cell_type": "code",
   "execution_count": 17,
   "id": "7357f365-3db7-42d9-8b07-2e0c95315a0a",
   "metadata": {},
   "outputs": [
    {
     "data": {
      "text/plain": [
       "5"
      ]
     },
     "execution_count": 17,
     "metadata": {},
     "output_type": "execute_result"
    }
   ],
   "source": [
    "random.randint(5, 10)"
   ]
  },
  {
   "cell_type": "code",
   "execution_count": 18,
   "id": "a0a9601d-122e-4f5b-84bc-76b12fce986b",
   "metadata": {},
   "outputs": [
    {
     "data": {
      "text/plain": [
       "3"
      ]
     },
     "execution_count": 18,
     "metadata": {},
     "output_type": "execute_result"
    }
   ],
   "source": [
    "t = [1, 2, 3]\n",
    "random.choice(t)"
   ]
  },
  {
   "cell_type": "code",
   "execution_count": 19,
   "id": "a21b0aea-f04a-4a04-bcd6-61a965111b3c",
   "metadata": {},
   "outputs": [
    {
     "data": {
      "text/plain": [
       "3"
      ]
     },
     "execution_count": 19,
     "metadata": {},
     "output_type": "execute_result"
    }
   ],
   "source": [
    "random.choice(t)"
   ]
  },
  {
   "cell_type": "code",
   "execution_count": 20,
   "id": "a917b92c-6044-452b-b3f7-a59b97c92c24",
   "metadata": {},
   "outputs": [
    {
     "data": {
      "text/plain": [
       "2"
      ]
     },
     "execution_count": 20,
     "metadata": {},
     "output_type": "execute_result"
    }
   ],
   "source": [
    "random.choice(t)"
   ]
  },
  {
   "cell_type": "raw",
   "id": "6a147683-50d7-4ed2-8c8b-c156f00a4edf",
   "metadata": {},
   "source": [
    "4.6\n",
    "Adding new functions"
   ]
  },
  {
   "cell_type": "code",
   "execution_count": 24,
   "id": "d89ceb0e-1037-4f75-a9f9-15fb5abf519a",
   "metadata": {},
   "outputs": [
    {
     "ename": "IndentationError",
     "evalue": "unindent does not match any outer indentation level (<string>, line 4)",
     "output_type": "error",
     "traceback": [
      "  \u001b[36mFile \u001b[39m\u001b[32m<string>:4\u001b[39m\n\u001b[31m    \u001b[39m\u001b[31mprint(print_lyrics)\u001b[39m\n                          ^\n\u001b[31mIndentationError\u001b[39m\u001b[31m:\u001b[39m unindent does not match any outer indentation level\n"
     ]
    }
   ],
   "source": [
    "def print_lyrics():\n",
    "    print(\"i am a lumberjack, and i am okay.\")\n",
    "    print(\"i sleep all night and work all day\")\n",
    " print(print_lyrics)   "
   ]
  },
  {
   "cell_type": "code",
   "execution_count": 26,
   "id": "4f0ecdc8-1648-4cbc-a30b-a800593430f4",
   "metadata": {},
   "outputs": [
    {
     "ename": "NameError",
     "evalue": "name 'print_lyrics' is not defined",
     "output_type": "error",
     "traceback": [
      "\u001b[31m---------------------------------------------------------------------------\u001b[39m",
      "\u001b[31mNameError\u001b[39m                                 Traceback (most recent call last)",
      "\u001b[36mCell\u001b[39m\u001b[36m \u001b[39m\u001b[32mIn[26]\u001b[39m\u001b[32m, line 1\u001b[39m\n\u001b[32m----> \u001b[39m\u001b[32m1\u001b[39m \u001b[38;5;28mprint\u001b[39m(\u001b[38;5;28mtype\u001b[39m(\u001b[43mprint_lyrics\u001b[49m))\n",
      "\u001b[31mNameError\u001b[39m: name 'print_lyrics' is not defined"
     ]
    }
   ],
   "source": [
    "print(type(print_lyrics))"
   ]
  },
  {
   "cell_type": "code",
   "execution_count": 27,
   "id": "6801ce5a-edcd-48de-a219-482b40a69ebd",
   "metadata": {},
   "outputs": [],
   "source": [
    "def print_lyrics():\n",
    "    print(\"I'm a lumberjack, and I'm okay.\")\n",
    "    print('I sleep all night and I work all day.')\n",
    "    "
   ]
  },
  {
   "cell_type": "code",
   "execution_count": 28,
   "id": "c58533a4-30bf-4198-90a5-c54a25dffcf0",
   "metadata": {},
   "outputs": [
    {
     "name": "stdout",
     "output_type": "stream",
     "text": [
      "<function print_lyrics at 0x75ca95f81120>\n"
     ]
    }
   ],
   "source": [
    "print(print_lyrics)"
   ]
  },
  {
   "cell_type": "code",
   "execution_count": 29,
   "id": "fb54f6e1-cb88-4802-9c3a-efac9e42bc38",
   "metadata": {},
   "outputs": [
    {
     "name": "stdout",
     "output_type": "stream",
     "text": [
      "<class 'function'>\n"
     ]
    }
   ],
   "source": [
    "print(type(print_lyrics))"
   ]
  },
  {
   "cell_type": "code",
   "execution_count": 30,
   "id": "e428a655-4b3f-44c4-9a6a-17d71f7a6dc8",
   "metadata": {},
   "outputs": [
    {
     "name": "stdout",
     "output_type": "stream",
     "text": [
      "I'm a lumberjack, and I'm okay.\n",
      "I sleep all night and I work all day.\n"
     ]
    }
   ],
   "source": [
    "print_lyrics()"
   ]
  },
  {
   "cell_type": "code",
   "execution_count": 31,
   "id": "12111ce6-f2c1-4400-8906-d5167680f485",
   "metadata": {},
   "outputs": [],
   "source": [
    "def repeat_lyrics():\n",
    "    print_lyrics()\n",
    "    print_lyrics()"
   ]
  },
  {
   "cell_type": "code",
   "execution_count": 32,
   "id": "fdba4226-2c12-42f0-bf72-886398cc1376",
   "metadata": {},
   "outputs": [
    {
     "name": "stdout",
     "output_type": "stream",
     "text": [
      "I'm a lumberjack, and I'm okay.\n",
      "I sleep all night and I work all day.\n",
      "I'm a lumberjack, and I'm okay.\n",
      "I sleep all night and I work all day.\n"
     ]
    }
   ],
   "source": [
    "repeat_lyrics()"
   ]
  },
  {
   "cell_type": "raw",
   "id": "6dca9993-dec3-43f3-8f80-047245325b7a",
   "metadata": {},
   "source": [
    "4.7 Definitions and uses"
   ]
  },
  {
   "cell_type": "raw",
   "id": "d145930e-0253-48a8-9c3f-218b9c853fd0",
   "metadata": {},
   "source": [
    "Exercise 2: Move the last line of this program to the top, so the function call\n",
    "appears before the deﬁnitions. Run the program and see what error message you\n",
    "get."
   ]
  },
  {
   "cell_type": "raw",
   "id": "7fba3053-f9d5-4c67-a4e9-7dfb3bbc107d",
   "metadata": {},
   "source": [
    "4.9 Parameters and arguments"
   ]
  },
  {
   "cell_type": "code",
   "execution_count": 33,
   "id": "1b0eb2b6-93e9-4fb7-9d93-00b0adc373a3",
   "metadata": {},
   "outputs": [],
   "source": [
    "def r_2(x):\n",
    "    print(x)\n",
    "    print(x)"
   ]
  },
  {
   "cell_type": "code",
   "execution_count": 35,
   "id": "738eb8a2-2522-4959-bb63-a158832aed21",
   "metadata": {},
   "outputs": [
    {
     "name": "stdout",
     "output_type": "stream",
     "text": [
      "rubin\n",
      "rubin\n"
     ]
    }
   ],
   "source": [
    "r_2(\"rubin\")"
   ]
  },
  {
   "cell_type": "code",
   "execution_count": 36,
   "id": "37a4fdfc-753c-46f6-9b07-90e35a3f00b4",
   "metadata": {},
   "outputs": [
    {
     "name": "stdout",
     "output_type": "stream",
     "text": [
      "3.141592653589793\n",
      "3.141592653589793\n"
     ]
    }
   ],
   "source": [
    "r_2(math.pi)"
   ]
  },
  {
   "cell_type": "code",
   "execution_count": 38,
   "id": "391de601-a11a-4a01-816e-df92546e1db9",
   "metadata": {},
   "outputs": [
    {
     "name": "stdout",
     "output_type": "stream",
     "text": [
      "rubin rubin rubin rubin \n",
      "rubin rubin rubin rubin \n"
     ]
    }
   ],
   "source": [
    "r_2( \"rubin \" *4)"
   ]
  },
  {
   "cell_type": "code",
   "execution_count": 39,
   "id": "a77aa244-4e51-4c24-96f4-86d310048b50",
   "metadata": {},
   "outputs": [
    {
     "name": "stdout",
     "output_type": "stream",
     "text": [
      "mother and father\n",
      "mother and father\n"
     ]
    }
   ],
   "source": [
    "a = \"mother and father\"\n",
    "r_2(a)"
   ]
  },
  {
   "cell_type": "raw",
   "id": "55677472-879e-4c63-97ff-c3576441af9c",
   "metadata": {},
   "source": [
    "Fruitful functions and void functions"
   ]
  },
  {
   "cell_type": "code",
   "execution_count": 40,
   "id": "fca9fa11-3bd0-4ee1-8c02-3092990ccd76",
   "metadata": {},
   "outputs": [
    {
     "name": "stdout",
     "output_type": "stream",
     "text": [
      "bipin\n",
      "bipin\n"
     ]
    }
   ],
   "source": [
    "c = r_2(\"bipin\")"
   ]
  },
  {
   "cell_type": "code",
   "execution_count": 41,
   "id": "580280b2-2358-49dc-9652-4d4e1e9c29ad",
   "metadata": {},
   "outputs": [
    {
     "name": "stdout",
     "output_type": "stream",
     "text": [
      "None\n"
     ]
    }
   ],
   "source": [
    "print(c)"
   ]
  },
  {
   "cell_type": "code",
   "execution_count": 42,
   "id": "43c78347-6e0d-4502-b75d-1ebe1ad1dd9f",
   "metadata": {},
   "outputs": [
    {
     "name": "stdout",
     "output_type": "stream",
     "text": [
      "<class 'NoneType'>\n"
     ]
    }
   ],
   "source": [
    "print(type(None))"
   ]
  },
  {
   "cell_type": "code",
   "execution_count": 43,
   "id": "233e30a4-bd9c-4e4e-8eab-fb494374c45d",
   "metadata": {},
   "outputs": [],
   "source": [
    "def add(a, b):\n",
    "    s = a + b\n",
    "    return s\n",
    "    "
   ]
  },
  {
   "cell_type": "code",
   "execution_count": 45,
   "id": "1678ab71-cc4e-4243-980c-80e2e896f07d",
   "metadata": {},
   "outputs": [
    {
     "name": "stdout",
     "output_type": "stream",
     "text": [
      "8\n"
     ]
    }
   ],
   "source": [
    "x = add(3, 5)\n",
    "print(x)"
   ]
  },
  {
   "cell_type": "raw",
   "id": "d1723bb8-0418-499d-a2a9-6c4c5ee9e1ff",
   "metadata": {},
   "source": [
    "Exercise 5: What will the following Python program print out?"
   ]
  },
  {
   "cell_type": "code",
   "execution_count": null,
   "id": "abfe7c2a-8ebb-4f3b-9a13-25e68092afc6",
   "metadata": {},
   "outputs": [],
   "source": [
    "def f():\n",
    "    print(\"Zap\")\n",
    "def j():\n",
    "    print(\"ABC\")"
   ]
  },
  {
   "cell_type": "code",
   "execution_count": 47,
   "id": "d1239ccc-5193-403a-8ef4-4d5a95909c5b",
   "metadata": {},
   "outputs": [
    {
     "name": "stdout",
     "output_type": "stream",
     "text": [
      "ABC\n",
      "Zap\n",
      "ABC\n"
     ]
    }
   ],
   "source": [
    "j()\n",
    "f()\n",
    "j()"
   ]
  },
  {
   "cell_type": "raw",
   "id": "d6304853-6ac9-4dec-b3a3-2c65e674550e",
   "metadata": {},
   "source": [
    "Exercise 6: Rewrite your pay computation with time-and-a-half for overtime and\n",
    "create a function called computepay which takes two parameters (hours and rate).\n",
    "Enter Hours: 45\n",
    "Enter Rate: 10\n",
    "Pay: 475.0"
   ]
  },
  {
   "cell_type": "code",
   "execution_count": 53,
   "id": "c464cb46-835f-4e9d-97fa-c9ba557b7589",
   "metadata": {},
   "outputs": [
    {
     "name": "stdout",
     "output_type": "stream",
     "text": [
      "Pay: 475.0\n"
     ]
    }
   ],
   "source": [
    "def pay(h, r):\n",
    "    o = h - 40\n",
    "    if o <= 0:\n",
    "        p = h * r\n",
    "        print(\"pay: \" + str(p))\n",
    "    else:\n",
    "        p = 40 * r + o * r * 1.5\n",
    "        print(\"Pay: \" + str(p))\n",
    "pay(45, 10)"
   ]
  },
  {
   "cell_type": "raw",
   "id": "bb1271c1-dc0f-4a19-9c22-c61efcf70770",
   "metadata": {},
   "source": [
    "Exercise 7: Rewrite the grade program from the previous chapter using a function\n",
    "called computegrade that takes a score as its parameter and returns a grade as a\n",
    "string.\n",
    "Score\n",
    ">= 0.9\n",
    ">= 0.8\n",
    ">= 0.7\n",
    ">= 0.6\n",
    "< 0.6\n",
    "Grade\n",
    "A\n",
    "B\n",
    "C\n",
    "D\n",
    "F\n",
    "Enter score: 0.95\n",
    "A\n",
    "Enter score: perfect\n",
    "Bad score"
   ]
  },
  {
   "cell_type": "code",
   "execution_count": null,
   "id": "c63b6b44-e759-4fdd-a71e-6e86eede9e89",
   "metadata": {},
   "outputs": [],
   "source": [
    "def f(s):\n",
    "    if s <= 1 and s >= 0.9:\n",
    "        print(\"A\")\n",
    "    elif s < 0.9 and s >= 0.8:\n",
    "        print(\"B\")\n",
    "    elif s < 0.8 and s >= 0.7:\n",
    "        print(\"C\")\n",
    "    elif s < 0.7 and s >= 0.6:\n",
    "        print(\"D\")\n",
    "    elif s < 0.6 and s > 0:\n",
    "        print(\"F\")\n",
    "    else:\n",
    "        print(\"BAD SCORE\")\n",
    "try:\n",
    "    s = float(input(\"Enter score: \"))\n",
    "    f(s)\n",
    "except:\n",
    "    print(\"Bad Score\")"
   ]
  },
  {
   "cell_type": "code",
   "execution_count": null,
   "id": "9c73258d-52bd-4fe9-b757-d5f8f1b6751c",
   "metadata": {},
   "outputs": [],
   "source": []
  }
 ],
 "metadata": {
  "kernelspec": {
   "display_name": "Python 3 (ipykernel)",
   "language": "python",
   "name": "python3"
  },
  "language_info": {
   "codemirror_mode": {
    "name": "ipython",
    "version": 3
   },
   "file_extension": ".py",
   "mimetype": "text/x-python",
   "name": "python",
   "nbconvert_exporter": "python",
   "pygments_lexer": "ipython3",
   "version": "3.12.3"
  }
 },
 "nbformat": 4,
 "nbformat_minor": 5
}
