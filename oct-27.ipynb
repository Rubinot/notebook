{
 "cells": [
  {
   "cell_type": "raw",
   "id": "0aa0683e-74a5-45c1-b048-733d664a505a",
   "metadata": {},
   "source": [
    "updated password generator:"
   ]
  },
  {
   "cell_type": "code",
   "execution_count": 16,
   "id": "71c29ca5-360c-4b33-bca5-edc9199f7f4f",
   "metadata": {},
   "outputs": [
    {
     "name": "stdin",
     "output_type": "stream",
     "text": [
      "Digit in the password:  7\n"
     ]
    },
    {
     "name": "stdout",
     "output_type": "stream",
     "text": [
      "[9, 1, 2, 0, 7, 8, 2]\n",
      "['u', 'b', 's', 'j', 'g', 'm', 'z']\n",
      "['&', '#', '&', '#', '!', '%', '@']\n",
      "[2]\n",
      "[2, 3]\n",
      "[2, 3, 2]\n",
      "[2, 3, 2, 1]\n",
      "[2, 3, 2, 1, 3]\n",
      "[2, 3, 2, 1, 3, 2]\n",
      "[2, 3, 2, 1, 3, 2, 2]\n",
      "['u', '#', 's', '0', '!', 'M', 'z']\n",
      "u#s0!Mz\n"
     ]
    }
   ],
   "source": [
    "\n",
    "\n",
    "\n",
    "\n",
    "\n",
    "print(p)\n",
    "print(q)\n",
    "print(r)\n",
    "\n",
    "\n",
    "print(p_a)\n",
    "\n"
   ]
  },
  {
   "cell_type": "code",
   "execution_count": 3,
   "id": "d8026bb6-5738-4078-892b-db7cfd17af55",
   "metadata": {},
   "outputs": [
    {
     "name": "stdin",
     "output_type": "stream",
     "text": [
      "Enter:  @1ynT3\n"
     ]
    },
    {
     "name": "stdout",
     "output_type": "stream",
     "text": [
      "@nyT13\n"
     ]
    }
   ],
   "source": [
    "import random\n",
    "a = input(\"Enter: \")\n",
    "a_1 = list(a)\n",
    "random.shuffle(a_1)\n",
    "f = ''. join(a_1)\n",
    "print(f)"
   ]
  },
  {
   "cell_type": "code",
   "execution_count": 17,
   "id": "57639b2c-1fc2-470b-a381-c1c15c6a700e",
   "metadata": {},
   "outputs": [
    {
     "ename": "IndentationError",
     "evalue": "unexpected indent (1358768719.py, line 11)",
     "output_type": "error",
     "traceback": [
      "  \u001b[36mCell\u001b[39m\u001b[36m \u001b[39m\u001b[32mIn[17]\u001b[39m\u001b[32m, line 11\u001b[39m\n\u001b[31m    \u001b[39m\u001b[31mfor i in range(z): #first for loop\u001b[39m\n    ^\n\u001b[31mIndentationError\u001b[39m\u001b[31m:\u001b[39m unexpected indent\n"
     ]
    }
   ],
   "source": [
    "import random\n",
    "p_a = []\n",
    "c = []\n",
    "p = []\n",
    "q = []\n",
    "r = []\n",
    "a_l = ['a', 'b', 'c', 'd', 'e', 'f', 'g', 'h', 'i', 'j', 'k', 'l', 'm', 'n', 'o', 'p', 'q', 'r', 's', 't', 'u', 'v', 'w', 'x', 'y', 'z']\n",
    "s_y = ['!', '@', '#', '$', '%', '&']\n",
    "try:\n",
    "   z = int(input(\"Digit in the password: \")) \n",
    "    for i in range(z): #first for loop\n",
    "        p.append(random.randint(0, 9))\n",
    "        q.append(random.choice(a_l))\n",
    "        r.append(random.choice(s_y))\n",
    "    for y in range(z):\n",
    "        x = random.randint(1, 3)\n",
    "        c.append(x)\n",
    "        print(c)\n",
    "        if c[y] == 1:\n",
    "            p_a.append(str(p[y]))\n",
    "        elif c[y] == 2:\n",
    "            u = random.randint(1, 2)\n",
    "            if u == 1:\n",
    "               p_a.append(q[y])\n",
    "            else:\n",
    "                p_a.append(q[y].upper())\n",
    "        else:\n",
    "            p_a.append(r[y])\n",
    "    print(''. join(p_a))\n",
    "except:\n",
    "Print(\"enter proper number\")"
   ]
  },
  {
   "cell_type": "code",
   "execution_count": 21,
   "id": "ba804183-98e8-4191-a06b-e0a604dfbeef",
   "metadata": {},
   "outputs": [
    {
     "name": "stdin",
     "output_type": "stream",
     "text": [
      "Digits in the password:  yfgre8ogh\n"
     ]
    },
    {
     "name": "stdout",
     "output_type": "stream",
     "text": [
      "Enter a proper number\n"
     ]
    }
   ],
   "source": [
    "import random\n",
    "\n",
    "p_a = []\n",
    "c = []\n",
    "p = []\n",
    "q = []\n",
    "r = []\n",
    "a_l = ['a', 'b', 'c', 'd', 'e', 'f', 'g', 'h', 'i', 'j', 'k', 'l', 'm', 'n', 'o', 'p', 'q', 'r', 's', 't', 'u', 'v', 'w', 'x', 'y', 'z']\n",
    "s_y = ['!', '@', '#', '$', '%', '&']\n",
    "\n",
    "try:\n",
    "    z = int(input(\"Digits in the password: \"))\n",
    "    for i in range(z):  # first for loop\n",
    "        p.append(random.randint(0, 9))\n",
    "        q.append(random.choice(a_l))\n",
    "        r.append(random.choice(s_y))\n",
    "    \n",
    "    for y in range(z):\n",
    "        x = random.randint(1, 3)\n",
    "        c.append(x)\n",
    "        if c[y] == 1:\n",
    "            p_a.append(str(p[y]))\n",
    "        elif c[y] == 2:\n",
    "            u = random.randint(1, 2)\n",
    "            if u == 1:\n",
    "                p_a.append(q[y])\n",
    "            else:\n",
    "                p_a.append(q[y].upper())\n",
    "        else:\n",
    "            p_a.append(r[y])\n",
    "    \n",
    "    print(''.join(p_a))\n",
    "\n",
    "except:\n",
    "    print(\"Enter a proper number\")\n"
   ]
  },
  {
   "cell_type": "code",
   "execution_count": null,
   "id": "6371286b-cd34-4033-a43f-9155337f9273",
   "metadata": {},
   "outputs": [],
   "source": []
  }
 ],
 "metadata": {
  "kernelspec": {
   "display_name": "Python 3 (ipykernel)",
   "language": "python",
   "name": "python3"
  },
  "language_info": {
   "codemirror_mode": {
    "name": "ipython",
    "version": 3
   },
   "file_extension": ".py",
   "mimetype": "text/x-python",
   "name": "python",
   "nbconvert_exporter": "python",
   "pygments_lexer": "ipython3",
   "version": "3.12.3"
  }
 },
 "nbformat": 4,
 "nbformat_minor": 5
}
