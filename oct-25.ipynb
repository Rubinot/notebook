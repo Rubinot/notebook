{
 "cells": [
  {
   "cell_type": "code",
   "execution_count": 5,
   "id": "13f76c33-b4d6-435f-a52a-4cf896ab6676",
   "metadata": {},
   "outputs": [
    {
     "name": "stdin",
     "output_type": "stream",
     "text": [
      "Enter:  adgjmptw\n"
     ]
    }
   ],
   "source": [
    "#taking the input from the user:\n",
    "a_0 = str(input(\"Enter: \"))"
   ]
  },
  {
   "cell_type": "code",
   "execution_count": 19,
   "id": "080f6ab1-ac11-447a-9f57-1835e7fa618a",
   "metadata": {},
   "outputs": [],
   "source": [
    "#we need the length of the string:\n",
    "a_1 = len(a_0) #here we save the length in terms of a variable a_1"
   ]
  },
  {
   "cell_type": "raw",
   "id": "b75c2c32-1c8a-4661-a180-0c95f2cebfeb",
   "metadata": {},
   "source": [
    "#we need to print it backwards\n",
    "# in this case:\n",
    "a_0[7] + a_0[6] + a_0[5] + a_0[4] + a_0[3] +a_0[2] +a_0[1] +a_0[0]\n",
    "what is happening here is :\n",
    "a_0[a_1-1] + a_0[a_1-2] + .............+a_0[0]\n",
    "\n",
    "if we look at the thing that is changing:\n",
    "a_1-1  a_1-2  a_2-3 and all the way to 0\n",
    "or in this case:\n",
    "8 7 6 5 4 3 2 1 0\n",
    "i rember what i code today from the book:\n",
    "\n",
    "n = 5\n",
    "while n > 0:\n",
    "    print(n)\n",
    "    n = n - 1\n",
    " we have to change it as:\n",
    "n = a_1\n",
    "while n == 0:\n",
    "    print(n)\n",
    "    n = n - 1"
   ]
  },
  {
   "cell_type": "code",
   "execution_count": null,
   "id": "774c2ae5-ab71-4f4b-8e0b-61c01ca7e5b8",
   "metadata": {},
   "outputs": [],
   "source": [
    "#what if we used:\n",
    "for i in range(0, a_1):\n",
    "    "
   ]
  },
  {
   "cell_type": "code",
   "execution_count": 39,
   "id": "59e71ef4-289c-4c8c-82c2-fb00e59a096b",
   "metadata": {},
   "outputs": [
    {
     "name": "stdin",
     "output_type": "stream",
     "text": [
      "Enter:  rgh\n"
     ]
    },
    {
     "name": "stdout",
     "output_type": "stream",
     "text": [
      "hgr\n"
     ]
    }
   ],
   "source": [
    "import random\n",
    "a = []\n",
    "#taking the input from the user:\n",
    "a_0 = str(input(\"Enter: \"))\n",
    "#we need the length of the string:\n",
    "a_1 = len(a_0) #here we save the length in terms of a variable a_1\n",
    "n = a_1\n",
    "while n > 0:\n",
    "    r = random.randint(0, n-1)\n",
    "    a.append(a_0[r])\n",
    "    n = n - 1\n",
    "f = ''.join(a)\n",
    "print(f)"
   ]
  },
  {
   "cell_type": "code",
   "execution_count": 30,
   "id": "773c6076-6600-4a63-9426-d9d30ffa9a02",
   "metadata": {},
   "outputs": [
    {
     "name": "stdout",
     "output_type": "stream",
     "text": [
      "['w', 't', 'p', 'm', 'j', 'g', 'd', 'a']\n"
     ]
    }
   ],
   "source": [
    "a = list(a_0[::-1])\n",
    "print(a)"
   ]
  },
  {
   "cell_type": "code",
   "execution_count": 42,
   "id": "de12afa7-d216-4c16-a23b-1e40d8ff9562",
   "metadata": {},
   "outputs": [
    {
     "name": "stdin",
     "output_type": "stream",
     "text": [
      "Enter:  adgjmptw\n"
     ]
    },
    {
     "name": "stdout",
     "output_type": "stream",
     "text": [
      "mgwdtapj\n"
     ]
    }
   ],
   "source": [
    "import random\n",
    "a = input(\"Enter: \")\n",
    "a_1 = list(a)\n",
    "random.shuffle(a_1)\n",
    "f = ''. join(a_1)\n",
    "print(f)"
   ]
  },
  {
   "cell_type": "code",
   "execution_count": null,
   "id": "307cf364-2f52-40f9-9b31-1f35c1c31e83",
   "metadata": {},
   "outputs": [],
   "source": []
  }
 ],
 "metadata": {
  "kernelspec": {
   "display_name": "Python 3 (ipykernel)",
   "language": "python",
   "name": "python3"
  },
  "language_info": {
   "codemirror_mode": {
    "name": "ipython",
    "version": 3
   },
   "file_extension": ".py",
   "mimetype": "text/x-python",
   "name": "python",
   "nbconvert_exporter": "python",
   "pygments_lexer": "ipython3",
   "version": "3.12.3"
  }
 },
 "nbformat": 4,
 "nbformat_minor": 5
}
