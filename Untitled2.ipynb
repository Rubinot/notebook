{
 "cells": [
  {
   "cell_type": "raw",
   "id": "7e6ad97f-be07-482c-801a-afcec12a277d",
   "metadata": {},
   "source": [
    "Learn Python in One Day and Learn It Well\n",
    "Python for Beginners with Hands-on Project\n",
    "The only book you need to start coding in\n",
    "Python immediately\n",
    "By Jamie Chan"
   ]
  },
  {
   "cell_type": "raw",
   "id": "f5a3d5b6-47b0-4b7c-963f-34faca197dbe",
   "metadata": {},
   "source": [
    "the link is give as : Learn Python in One Day"
   ]
  },
  {
   "cell_type": "raw",
   "id": "6fc9d72e-604a-4ab6-93a6-03e122ec381c",
   "metadata": {},
   "source": [
    "I am jumping to page 32: Type Casting In Python"
   ]
  },
  {
   "cell_type": "code",
   "execution_count": 6,
   "id": "388116d9-93c3-4788-8cb1-349feb366151",
   "metadata": {},
   "outputs": [
    {
     "name": "stdout",
     "output_type": "stream",
     "text": [
      "25\n"
     ]
    }
   ],
   "source": [
    "user_age = [21, 22, 23, 24, 25] # a list with values assigned\n",
    "list = [] #this is an empty list\n",
    "print (user_age[-1])"
   ]
  },
  {
   "cell_type": "code",
   "execution_count": 8,
   "id": "ae144b45-9b22-4dfb-a935-7810b00691c7",
   "metadata": {},
   "outputs": [
    {
     "name": "stdout",
     "output_type": "stream",
     "text": [
      "['first charatcter', 'second character']\n"
     ]
    }
   ],
   "source": [
    "l = []\n",
    "l.append(\"first charatcter\")\n",
    "l.append('second character')\n",
    "print(l)\n"
   ]
  },
  {
   "cell_type": "raw",
   "id": "be701114-e563-450e-9bbc-c8ad811f4e3e",
   "metadata": {},
   "source": [
    "<name of the list>.append(<things you want to add>)\n",
    "<name of the list>.remove(<name of the thing you want to remove>)"
   ]
  },
  {
   "cell_type": "raw",
   "id": "1d5566d1-fefa-4969-acee-7e179b17336b",
   "metadata": {},
   "source": [
    "Tuple Tuples are just like lists, but you cannot modify their values. The initial values are the values that will stay for the rest of the program.\n",
    "l = (1, 2, ) is an example of tuple."
   ]
  },
  {
   "cell_type": "raw",
   "id": "44cbcc86-025d-4c36-bc01-1418428eca89",
   "metadata": {},
   "source": [
    "Dictionary: collection of data  in pair like name and age.\n",
    "dictionaryName = {dictionarykey : data}\n",
    "dictionaryName = dict(dictionarykey="
   ]
  },
  {
   "cell_type": "code",
   "execution_count": 12,
   "id": "9a6a0997-16c0-4b01-a6f2-b75f40263495",
   "metadata": {},
   "outputs": [
    {
     "name": "stdout",
     "output_type": "stream",
     "text": [
      "{'rubin': 22, 'anuj': 12, 'anusha': 7}\n",
      "{'rubin': 22, 'anuj': 12, 'anusha': 7}\n"
     ]
    }
   ],
   "source": [
    "info = {\"rubin\":22, \"anuj\":12, \"anusha\":7} \n",
    "print(info)\n",
    "info_1 = dict(rubin = 22, anuj=12, anusha=7)\n",
    "print(info_1)\n"
   ]
  },
  {
   "cell_type": "code",
   "execution_count": null,
   "id": "639c2726-9693-43a6-baf0-cbbed4b56904",
   "metadata": {},
   "outputs": [],
   "source": []
  }
 ],
 "metadata": {
  "kernelspec": {
   "display_name": "Python 3 (ipykernel)",
   "language": "python",
   "name": "python3"
  },
  "language_info": {
   "codemirror_mode": {
    "name": "ipython",
    "version": 3
   },
   "file_extension": ".py",
   "mimetype": "text/x-python",
   "name": "python",
   "nbconvert_exporter": "python",
   "pygments_lexer": "ipython3",
   "version": "3.12.3"
  }
 },
 "nbformat": 4,
 "nbformat_minor": 5
}
