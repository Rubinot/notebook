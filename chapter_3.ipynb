{
 "cells": [
  {
   "cell_type": "raw",
   "id": "251eb0a0-7522-4281-9e46-8c603be48ad9",
   "metadata": {},
   "source": [
    "try and except stuffs:"
   ]
  },
  {
   "cell_type": "code",
   "execution_count": 6,
   "id": "a371f28a-b2fe-44f4-9bb1-4213000c21d5",
   "metadata": {},
   "outputs": [
    {
     "name": "stdin",
     "output_type": "stream",
     "text": [
      "Enter a number:  gnn\n"
     ]
    },
    {
     "name": "stdout",
     "output_type": "stream",
     "text": [
      "please input a number:\n"
     ]
    }
   ],
   "source": [
    "a = (input(\"Enter a number: \"))\n",
    "\n",
    "try:\n",
    "    a = int(a)\n",
    "    print(\"you inputed the number:\" + str(a))\n",
    "except:\n",
    "    print(\"please input a number:\")\n"
   ]
  },
  {
   "cell_type": "raw",
   "id": "a073b329-b309-4101-93d1-64475c4e265d",
   "metadata": {},
   "source": [
    "Exercise 1: Rewrite your pay computation to give the employee 1.5 times the\n",
    "hourly rate for hours worked above 40 hours.\n",
    "Enter Hours: 45\n",
    "Enter Rate: 10\n",
    "Pay: 475.0"
   ]
  },
  {
   "cell_type": "code",
   "execution_count": 2,
   "id": "14a8aaa1-9da8-4178-b1fd-a50238869a5d",
   "metadata": {},
   "outputs": [
    {
     "name": "stdin",
     "output_type": "stream",
     "text": [
      "Enter Hours:  45\n",
      "Enter Rate:  10\n"
     ]
    },
    {
     "name": "stdout",
     "output_type": "stream",
     "text": [
      "Pay: 475.0\n"
     ]
    }
   ],
   "source": [
    "a = float(input(\"Enter Hours: \")) \n",
    "b = float(input(\"Enter Rate: \"))\n",
    "if a > 40:\n",
    "    o = a - 40\n",
    "    p_1 = 40 * b\n",
    "    p_2 = o * b *1.5\n",
    "    print(\"Pay: \" + str(p_1 + p_2))\n",
    "else:\n",
    "    p = a * b\n",
    "    print(\"Pay: \" + str(p))"
   ]
  },
  {
   "cell_type": "raw",
   "id": "7669bdbe-4f9b-4f86-9f64-8e724f924c2e",
   "metadata": {},
   "source": [
    "Exercise 2: Rewrite your pay program using try and except so that your pro-\n",
    "gram handles non-numeric input gracefully by printing a message and exiting the\n",
    "program. The following shows two executions of the program:\n",
    "\n",
    "Enter Hours: 20\n",
    "Enter Rate: nine\n",
    "Error, please enter numeric input\n",
    "Enter Hours: forty\n",
    "Error, please enter numeric input"
   ]
  },
  {
   "cell_type": "code",
   "execution_count": 7,
   "id": "fd77900f-3dc3-489d-80d7-ef890127e70f",
   "metadata": {},
   "outputs": [
    {
     "name": "stdin",
     "output_type": "stream",
     "text": [
      "Enter Hours:  ogikrfpg\n"
     ]
    },
    {
     "name": "stdout",
     "output_type": "stream",
     "text": [
      "use integers for input!\n"
     ]
    }
   ],
   "source": [
    "try:\n",
    "    a = float(input(\"Enter Hours: \")) \n",
    "    b = float(input(\"Enter Rate: \"))\n",
    "    if a > 40:\n",
    "        o = a - 40\n",
    "        p_1 = 40 * b\n",
    "        p_2 = o * b *1.5\n",
    "        print(\"Pay: \" + str(p_1 + p_2))\n",
    "    else:\n",
    "        p = a * b\n",
    "        print(\"Pay: \" + str(p))\n",
    "except:\n",
    "    print(\"use integers for input!\")"
   ]
  },
  {
   "cell_type": "raw",
   "id": "8d664abe-58c6-4ccc-86be-a3a29b342996",
   "metadata": {},
   "source": [
    "Exercise 3: Write a program to prompt for a score between 0.0 and 1.0. If the score is out of range, print an error message. If the score is between 0.0 and 1.0, print a grade using the following table:\n",
    "Score         Grade\n",
    ">= 0.9         A\n",
    ">= 0.8         B\n",
    ">= 0.7         C\n",
    ">= 0.6         D \n",
    "< 0.6          F\n",
    "Enter score: 0.95\n",
    "A\n",
    "Enter score: perfect\n",
    "Bad score\n",
    "Enter score: 10.0\n",
    "Bad score\n",
    "Enter score: 0.75\n",
    "C\n",
    "Enter score: 0.5\n",
    "F\n",
    "Run the program repeatedly as shown above to test the various diﬀerent values for\n",
    "input."
   ]
  },
  {
   "cell_type": "code",
   "execution_count": 28,
   "id": "6fee16d0-05d2-42ae-9789-4415bcdf3765",
   "metadata": {},
   "outputs": [
    {
     "name": "stdin",
     "output_type": "stream",
     "text": [
      "Enter score:  -20\n"
     ]
    },
    {
     "name": "stdout",
     "output_type": "stream",
     "text": [
      "Bad score\n"
     ]
    }
   ],
   "source": [
    "try:\n",
    "    s = float(input(\"Enter score: \"))\n",
    "    if s > 1 or s <0 :\n",
    "        print(\"Bad score\")\n",
    "    elif s >= 0.9 and s <= 1:\n",
    "        print(\"A\")\n",
    "    elif s >= 0.8 and s < 0.9:\n",
    "        print(\"B\")\n",
    "    elif s>= 0.7 and s < 0.8:\n",
    "        print(\"C\")\n",
    "    elif s>= 0.6 and s < 0.7:\n",
    "        print(\"D\")\n",
    "    elif s < 0.6:\n",
    "        print(\"F\")\n",
    "except:\n",
    "    print(\"Bad score\")"
   ]
  },
  {
   "cell_type": "code",
   "execution_count": null,
   "id": "af924547-9513-4c4e-ad85-8686564f2bb7",
   "metadata": {},
   "outputs": [],
   "source": []
  }
 ],
 "metadata": {
  "kernelspec": {
   "display_name": "Python 3 (ipykernel)",
   "language": "python",
   "name": "python3"
  },
  "language_info": {
   "codemirror_mode": {
    "name": "ipython",
    "version": 3
   },
   "file_extension": ".py",
   "mimetype": "text/x-python",
   "name": "python",
   "nbconvert_exporter": "python",
   "pygments_lexer": "ipython3",
   "version": "3.12.3"
  }
 },
 "nbformat": 4,
 "nbformat_minor": 5
}
